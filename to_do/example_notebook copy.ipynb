{
 "cells": [
  {
   "cell_type": "markdown",
   "metadata": {},
   "source": [
    "#### Pie from Totals"
   ]
  },
  {
   "cell_type": "code",
   "execution_count": 13,
   "metadata": {},
   "outputs": [],
   "source": [
    "# df_value_counts = df['hue'].value_counts().to_frame().reset_index()\n",
    "# df_value_counts"
   ]
  },
  {
   "cell_type": "code",
   "execution_count": 14,
   "metadata": {},
   "outputs": [],
   "source": [
    "# print(\"Pie\")\n",
    "# palette={\"category_1\": colors.BROWN, \"category_2\": colors.PINK}\n",
    "# label_map={\"category_1\": \"Category 1\", \"category_2\": \"Category 2\"}\n",
    "# plot.pie(df_value_counts, \"count\", \"hue\", \n",
    "#          palette=palette, label_map=label_map, white_text_labels=\"category_1\")"
   ]
  },
  {
   "cell_type": "markdown",
   "metadata": {},
   "source": [
    "#### Pie Binary"
   ]
  },
  {
   "cell_type": "code",
   "execution_count": 15,
   "metadata": {},
   "outputs": [],
   "source": [
    "# plot.pie_binary(input={True: 5000, False: 500}, \n",
    "#     palette={True: colors.GREEN, False: colors.RED}, \n",
    "#     white_text_labels=[False, True])"
   ]
  },
  {
   "cell_type": "markdown",
   "metadata": {},
   "source": [
    "#### Pie Missing Values"
   ]
  },
  {
   "cell_type": "code",
   "execution_count": 16,
   "metadata": {},
   "outputs": [],
   "source": [
    "# plot.pie_binary(input={True: 5000, False: 500}, \n",
    "#     palette={True: colors.GREEN, False: colors.RED}, \n",
    "#     white_text_labels=[False, True])"
   ]
  }
 ],
 "metadata": {
  "kernelspec": {
   "display_name": ".venv",
   "language": "python",
   "name": "python3"
  },
  "language_info": {
   "codemirror_mode": {
    "name": "ipython",
    "version": 3
   },
   "file_extension": ".py",
   "mimetype": "text/x-python",
   "name": "python",
   "nbconvert_exporter": "python",
   "pygments_lexer": "ipython3",
   "version": "3.13.7"
  }
 },
 "nbformat": 4,
 "nbformat_minor": 2
}
