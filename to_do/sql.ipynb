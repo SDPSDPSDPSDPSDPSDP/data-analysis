{
 "cells": [
  {
   "cell_type": "markdown",
   "metadata": {},
   "source": [
    "## SQL Query\n",
    "\n",
    "The input can be either a location to the config/query files or the actual config/query."
   ]
  },
  {
   "cell_type": "code",
   "execution_count": 20,
   "metadata": {},
   "outputs": [
    {
     "name": "stdout",
     "output_type": "stream",
     "text": [
      "Couldn't find program: 'echo'\n"
     ]
    }
   ],
   "source": [
    "%%script echo skipping\n",
    "\n",
    "from shirin.sql import run_sql_query\n",
    "\n",
    "db_config = {\n",
    "    'user': 'username', \n",
    "    'password': 'password', \n",
    "    'host': 'hostname', \n",
    "    'port': 'port', \n",
    "    'db_name': 'db_name', \n",
    "    'schema': 'schema_name'\n",
    "}\n",
    "\n",
    "sql_query = \"\"\"SELECT * FROM table_name\"\"\"\n",
    "\n",
    "df = run_sql_query(sql_query=sql_query, db_config=db_config)"
   ]
  },
  {
   "cell_type": "code",
   "execution_count": 21,
   "metadata": {},
   "outputs": [
    {
     "name": "stdout",
     "output_type": "stream",
     "text": [
      "Couldn't find program: 'echo'\n"
     ]
    }
   ],
   "source": [
    "%%script echo skipping\n",
    "\n",
    "db_config = os.path.join('path.json')\n",
    "sql_query = os.path.join('path.sql')\n",
    "\n",
    "df = run_sql_query(sql_query=sql_query, db_config=db_config)"
   ]
  }
 ],
 "metadata": {
  "kernelspec": {
   "display_name": ".venv",
   "language": "python",
   "name": "python3"
  },
  "language_info": {
   "codemirror_mode": {
    "name": "ipython",
    "version": 3
   },
   "file_extension": ".py",
   "mimetype": "text/x-python",
   "name": "python",
   "nbconvert_exporter": "python",
   "pygments_lexer": "ipython3",
   "version": "3.9.23"
  }
 },
 "nbformat": 4,
 "nbformat_minor": 2
}
