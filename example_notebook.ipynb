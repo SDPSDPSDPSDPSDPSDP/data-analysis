{
 "cells": [
  {
   "cell_type": "markdown",
   "metadata": {},
   "source": [
    "# Package\n",
    "\n",
    "This shows how to create a package and install it locally."
   ]
  },
  {
   "cell_type": "code",
   "execution_count": null,
   "metadata": {},
   "outputs": [],
   "source": [
    "# uv add git+https://github.com/SDPSDPSDPSDPSDPSDP/data-analysis.git --frozen"
   ]
  },
  {
   "cell_type": "markdown",
   "metadata": {},
   "source": [
    "# Fake Dataset\n",
    "\n",
    "Collaps this part."
   ]
  },
  {
   "cell_type": "code",
   "execution_count": null,
   "metadata": {},
   "outputs": [],
   "source": [
    "# generate fake datasets\n",
    "\n",
    "import pandas as pd\n",
    "import numpy as np\n",
    "import random\n",
    "import os\n",
    "\n",
    "df = pd.DataFrame({\n",
    "    \"label\": [\"A\", \"B\", \"A\", \"C\", \"B\", \"B\", \"C\", \"A\", \"A\", \"C\", \"D\", \"E\", \"F\", \"A\", \"B\", \"C\"],\n",
    "    \"values\": [5, 3, 8, 9, 4, 7, 6, 3, 2, 8, 1, 2, 3, 6, 5, 4],\n",
    "})\n",
    "df[\"hue\"] = [random.choice([\"category_1\", \"category_2\"]) for _ in range(len(df))]\n",
    "df[\"label\"] = \"Label \" + df[\"label\"]\n",
    "\n",
    "# Enlarge the Dataset\n",
    "original_length = len(df)\n",
    "multiplier = 10000\n",
    "df = pd.concat([df] * multiplier, ignore_index=True)\n",
    "\n",
    "# Ensure more middle values (range: 1-100, higher weights closer to 50)\n",
    "weights = [100 - abs(50 - x) for x in range(1, 101)]  # Higher weights for middle values\n",
    "middle_distribution = [random.choices(range(1, 101), weights=weights)[0] for _ in range(len(df))]\n",
    "df[\"values\"] = middle_distribution\n",
    "\n",
    "df[\"hue\"] = [random.choice([\"category_1\", \"category_2\"]) for _ in range(len(df))]\n",
    "df['hue2'] = df['hue'] == 'category_1'\n",
    "# Generate a fake dataset\n",
    "np.random.seed(42)  # Set a seed for reproducibility\n",
    "\n",
    "# Create fake data\n",
    "years = range(2000, 2023)  # Years from 2000 to 2022\n",
    "cumul_total_docs = np.cumsum(np.random.randint(50, 150, size=len(years)))  # Cumulative document count\n",
    "\n",
    "# Build the DataFrame\n",
    "df_documents_by_year = pd.DataFrame({\n",
    "    'year': years,  # Year values as integers\n",
    "    'cumul_total_docs': cumul_total_docs  # Cumulative total documents\n",
    "})\n",
    "\n",
    "df_documents_by_year"
   ]
  },
  {
   "cell_type": "markdown",
   "metadata": {},
   "source": [
    "# Examples\n",
    "\n",
    "This shows how to import the package and use the modules."
   ]
  },
  {
   "cell_type": "markdown",
   "metadata": {},
   "source": [
    "## Plotting"
   ]
  },
  {
   "cell_type": "code",
   "execution_count": null,
   "metadata": {},
   "outputs": [],
   "source": [
    "from shirin.plot import PlotGraphs, Colors\n",
    "plot = PlotGraphs(export=False, format='svg')"
   ]
  },
  {
   "cell_type": "code",
   "execution_count": null,
   "metadata": {},
   "outputs": [],
   "source": [
    "pd.options.display.max_rows = 100\n",
    "# pd.options.display.max_cols = 100"
   ]
  },
  {
   "cell_type": "markdown",
   "metadata": {},
   "source": [
    "### Countplot"
   ]
  },
  {
   "cell_type": "markdown",
   "metadata": {},
   "source": [
    "#### Y"
   ]
  },
  {
   "cell_type": "code",
   "execution_count": null,
   "metadata": {},
   "outputs": [],
   "source": [
    "print(\"Countplot Y\")\n",
    "plot.countplot_y(df, \"label\")"
   ]
  },
  {
   "cell_type": "code",
   "execution_count": null,
   "metadata": {},
   "outputs": [],
   "source": [
    "print(\"Stacked Countplot Y with Hue\")\n",
    "palette={\"category_1\": Colors.BROWN, \"category_2\": Colors.PINK}\n",
    "label_map={\"category_1\": \"Category 1\", \"category_2\": \"Category 2\"}\n",
    "plot.countplot_y(\n",
    "    df, \"label\", \n",
    "    hue=\"hue\", \n",
    "    palette=palette, \n",
    "    label_map=label_map, \n",
    "    plot_legend=True, \n",
    "    ncol=2, \n",
    "    legend_offset=1.17,\n",
    "    top_n=3, \n",
    "    ylabel=\"Category\", \n",
    "    xlabel=\"Total Tokens\",\n",
    "    stacked=True, \n",
    "    stacked_labels='standard',\n",
    "    order_type='alphabetical',\n",
    ")"
   ]
  },
  {
   "cell_type": "code",
   "execution_count": null,
   "metadata": {},
   "outputs": [],
   "source": [
    "print(\"Countplot Y\")\n",
    "plot.countplot_y(df, \"label\")"
   ]
  },
  {
   "cell_type": "code",
   "execution_count": null,
   "metadata": {},
   "outputs": [],
   "source": [
    "print(\"Stacked Countplot Y with Hue\")\n",
    "palette={\"category_1\": Colors.BROWN, \"category_2\": Colors.PINK}\n",
    "label_map={\"category_1\": \"Category 1\", \"category_2\": \"Category 2\"}\n",
    "plot.countplot_y(\n",
    "    df, \"label\", \n",
    "    hue=\"hue\", \n",
    "    palette=palette, \n",
    "    label_map=label_map, \n",
    "    plot_legend=True, \n",
    "    ncol=2, \n",
    "    legend_offset=1.17,\n",
    "    top_n=3, \n",
    "    ylabel=\"Category\", \n",
    "    xlabel=\"Total Tokens\",\n",
    "    stacked=True, \n",
    "    stacked_labels='standard',\n",
    "    order_type='alphabetical',\n",
    ")"
   ]
  },
  {
   "cell_type": "code",
   "execution_count": null,
   "metadata": {},
   "outputs": [],
   "source": [
    "print(\"Normalized Countplot Y\")\n",
    "palette={\"category_1\": Colors.BROWN, \"category_2\": Colors.PINK}\n",
    "label_map={\"category_1\": \"Category 1\", \"category_2\": \"Category 2\"}\n",
    "plot.countplot_y_normalized(\n",
    "    df, \n",
    "    \"label\", \n",
    "    hue=\"hue\", \n",
    "    palette=palette, \n",
    "    label_map=label_map, \n",
    "    plot_legend=True, \n",
    "    ncol=2, \n",
    "    legend_offset=1.17,\n",
    "    top_n=3, \n",
    "    ylabel=\"Category\", \n",
    "    xlabel=\"Total Tokens\",\n",
    "    order_type='alphabetical',\n",
    ")"
   ]
  },
  {
   "cell_type": "markdown",
   "metadata": {},
   "source": [
    "#### X"
   ]
  },
  {
   "cell_type": "code",
   "execution_count": null,
   "metadata": {},
   "outputs": [],
   "source": [
    "print(\"Countplot X\")\n",
    "plot.countplot_x(df, \"label\")"
   ]
  },
  {
   "cell_type": "code",
   "execution_count": null,
   "metadata": {},
   "outputs": [],
   "source": [
    "print(\"Stacked Countplot X with Hue\")\n",
    "palette={\"category_1\": Colors.BROWN, \"category_2\": Colors.PINK}\n",
    "label_map={\"category_1\": \"Category 1\", \"category_2\": \"Category 2\"}\n",
    "plot.countplot_x(\n",
    "    df, \"label\", \n",
    "    hue=\"hue\", \n",
    "    palette=palette, \n",
    "    label_map=label_map, \n",
    "    plot_legend=True, \n",
    "    ncol=2, \n",
    "    legend_offset=1.17,\n",
    "    top_n=5, \n",
    "    ylabel=\"Category\", \n",
    "    xlabel=\"Total Tokens\",\n",
    "    stacked=True, \n",
    "    stacked_labels='standard',\n",
    "    order_type='alphabetical',\n",
    ")"
   ]
  },
  {
   "cell_type": "code",
   "execution_count": null,
   "metadata": {},
   "outputs": [],
   "source": [
    "print(\"Normalized Countplot X\")\n",
    "palette={\"category_1\": Colors.BROWN, \"category_2\": Colors.PINK}\n",
    "label_map={\"category_1\": \"Category 1\", \"category_2\": \"Category 2\"}\n",
    "plot.countplot_x_normalized(\n",
    "    df, \n",
    "    \"label\", \n",
    "    hue=\"hue\", \n",
    "    palette=palette, \n",
    "    label_map=label_map, \n",
    "    plot_legend=True, \n",
    "    ncol=2, \n",
    "    legend_offset=1.17,\n",
    "    top_n=3, \n",
    "    ylabel=\"Category\", \n",
    "    xlabel=\"Total Tokens\",\n",
    "    order_type='alphabetical',\n",
    ")"
   ]
  },
  {
   "cell_type": "markdown",
   "metadata": {},
   "source": [
    "### Histogram"
   ]
  },
  {
   "cell_type": "code",
   "execution_count": null,
   "metadata": {},
   "outputs": [],
   "source": [
    "print(\"Histogram\")\n",
    "plot.histogram(df, \"values\")"
   ]
  },
  {
   "cell_type": "code",
   "execution_count": null,
   "metadata": {},
   "outputs": [],
   "source": [
    "print(\"Histogram\")\n",
    "plot.histogram(\n",
    "    df, \n",
    "    \"values\", \n",
    "    palette=Colors.DARK_BLUE, \n",
    "    xlimit=50, \n",
    "    bins=25, \n",
    "    xlabel=\"Total Tokens\", \n",
    "    ylabel=\"\"\n",
    ")"
   ]
  },
  {
   "cell_type": "code",
   "execution_count": null,
   "metadata": {},
   "outputs": [],
   "source": [
    "print(\"Histogram with different Categories\")\n",
    "palette={True: Colors.BROWN, False: Colors.PINK}\n",
    "label_map={True: \"Category 1\", False: \"Category 2\"}\n",
    "plot.histogram(\n",
    "    df, \n",
    "    \"values\", \n",
    "    xlimit=100, \n",
    "    bins=25, \n",
    "    xlabel=\"Total Tokens\", \n",
    "    ylabel=\"\",\n",
    "    hue=\"hue2\", \n",
    "    palette=palette, \n",
    "    label_map=label_map, \n",
    "    plot_legend=True, \n",
    "    ncol=2, \n",
    "    legend_offset=1.01, \n",
    "    stacked=True\n",
    ")"
   ]
  },
  {
   "cell_type": "markdown",
   "metadata": {},
   "source": [
    "### Pie"
   ]
  },
  {
   "cell_type": "markdown",
   "metadata": {},
   "source": [
    "#### Basic Pie Plot"
   ]
  },
  {
   "cell_type": "code",
   "execution_count": null,
   "metadata": {},
   "outputs": [],
   "source": [
    "print(\"Basic Pie\")\n",
    "palette={\"category_1\": Colors.BAD_RED, \"category_2\": Colors.GOOD_GREEN}\n",
    "label_map={\"category_1\": \"Category 1\", \"category_2\": \"Category 2\"}\n",
    "plot.pie(\n",
    "    df, \n",
    "    \"hue\", \n",
    "    palette=palette, \n",
    "    label_map=label_map, \n",
    "    white_text_labels=\"category_1\",\n",
    "    n_after_comma = 0,\n",
    "    value_datalabel = 5,\n",
    "    donut=False\n",
    ")"
   ]
  },
  {
   "cell_type": "code",
   "execution_count": null,
   "metadata": {},
   "outputs": [],
   "source": [
    "print(\"Basic Donut\")\n",
    "palette={\"category_1\": Colors.BAD_RED, \"category_2\": Colors.GOOD_GREEN}\n",
    "label_map={\"category_1\": \"Category 1\", \"category_2\": \"Category 2\"}\n",
    "plot.pie(\n",
    "    df, \n",
    "    \"hue\", \n",
    "    palette=palette, \n",
    "    label_map=label_map, \n",
    "    white_text_labels=\"category_1\",\n",
    "    n_after_comma = 0,\n",
    "    value_datalabel = 5,\n",
    "    donut=True\n",
    ")"
   ]
  },
  {
   "cell_type": "markdown",
   "metadata": {},
   "source": [
    "## Lineplot"
   ]
  },
  {
   "cell_type": "code",
   "execution_count": null,
   "metadata": {},
   "outputs": [],
   "source": [
    "print('Lineplot')\n",
    "plot.lineplot(df=df_documents_by_year, x='year', y='cumul_total_docs')"
   ]
  },
  {
   "cell_type": "code",
   "execution_count": null,
   "metadata": {},
   "outputs": [],
   "source": [
    "print('Lineplot')\n",
    "plot.lineplot(\n",
    "    df=df_documents_by_year, \n",
    "    x='year', \n",
    "    y='cumul_total_docs', \n",
    "    ylabel='Total Documents', \n",
    "    xlabel='Year', \n",
    "    rotation=90, \n",
    "    dynamic_x_ticks=2, \n",
    "    fill_missing_values='zero'\n",
    ") #'shift'"
   ]
  },
  {
   "cell_type": "markdown",
   "metadata": {},
   "source": [
    "## Statistics"
   ]
  },
  {
   "cell_type": "code",
   "execution_count": null,
   "metadata": {},
   "outputs": [],
   "source": [
    "from shirin.stats import print_stats"
   ]
  },
  {
   "cell_type": "code",
   "execution_count": null,
   "metadata": {},
   "outputs": [],
   "source": [
    "print_stats(df, 'values')"
   ]
  },
  {
   "cell_type": "markdown",
   "metadata": {},
   "source": [
    "## SQL Query\n",
    "\n",
    "The input can be either a location to the config/query files or the actual config/query."
   ]
  },
  {
   "cell_type": "code",
   "execution_count": null,
   "metadata": {},
   "outputs": [],
   "source": [
    "%%script echo skipping\n",
    "\n",
    "from shirin.sql import run_sql_query\n",
    "\n",
    "db_config = {\n",
    "    'user': 'username', \n",
    "    'password': 'password', \n",
    "    'host': 'hostname', \n",
    "    'port': 'port', \n",
    "    'db_name': 'db_name', \n",
    "    'schema': 'schema_name'\n",
    "}\n",
    "\n",
    "sql_query = \"\"\"SELECT * FROM table_name\"\"\"\n",
    "\n",
    "df = run_sql_query(sql_query=sql_query, db_config=db_config)"
   ]
  },
  {
   "cell_type": "code",
   "execution_count": null,
   "metadata": {},
   "outputs": [],
   "source": [
    "%%script echo skipping\n",
    "\n",
    "db_config = os.path.join('path.json')\n",
    "sql_query = os.path.join('path.sql')\n",
    "\n",
    "df = run_sql_query(sql_query=sql_query, db_config=db_config)"
   ]
  }
 ],
 "metadata": {
  "kernelspec": {
   "display_name": ".venv",
   "language": "python",
   "name": "python3"
  },
  "language_info": {
   "codemirror_mode": {
    "name": "ipython",
    "version": 3
   },
   "file_extension": ".py",
   "mimetype": "text/x-python",
   "name": "python",
   "nbconvert_exporter": "python",
   "pygments_lexer": "ipython3",
   "version": "3.13.7"
  }
 },
 "nbformat": 4,
 "nbformat_minor": 2
}
